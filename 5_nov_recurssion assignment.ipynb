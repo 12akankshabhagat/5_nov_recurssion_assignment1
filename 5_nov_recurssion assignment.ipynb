{
 "cells": [
  {
   "cell_type": "markdown",
   "id": "167d3ca7-7998-4929-bf06-93bc3b32622a",
   "metadata": {},
   "source": [
    "# Recursion Assignment Questions"
   ]
  },
  {
   "cell_type": "markdown",
   "id": "773e7811-59fe-441c-bcb6-97d06d2bcc21",
   "metadata": {},
   "source": [
    "### Q.1 Can you explain the logic and working of the Tower of Hanoi algorithm by writing a Java program? How does the recursion work, and how are the movements of disks between rods accomplished?"
   ]
  },
  {
   "cell_type": "code",
   "execution_count": 21,
   "id": "4c1a73a1-24e6-43bc-a939-f0d70cc4503f",
   "metadata": {},
   "outputs": [
    {
     "name": "stdout",
     "output_type": "stream",
     "text": [
      "Number of moves for 3 disks: 7\n"
     ]
    }
   ],
   "source": [
    "def moves(n, s, d, a):\n",
    "    # base condition\n",
    "    if n == 1:\n",
    "        return 1\n",
    "    # move n-1 from s -> a, then move 1 biggest coin s->d and then n-1 coin a->d\n",
    "    return moves(n-1, s, a, d) + 1 + moves(n-1, a, d, s)\n",
    "\n",
    "# Example usage\n",
    "num_disks = 3\n",
    "result = moves(num_disks, 'S', 'D', 'A')\n",
    "print(f\"Number of moves for {num_disks} disks: {result}\")"
   ]
  },
  {
   "cell_type": "code",
   "execution_count": 22,
   "id": "f5f0f87a-90a9-4881-8e8c-a4ba2a7e6b72",
   "metadata": {},
   "outputs": [
    {
     "data": {
      "text/plain": [
       "'The Tower of Hanoi is a classic problem in computer science and mathematics. The problem consists of three rods and a number of disks\\nof different sizes, which can slide onto any rod. The puzzle starts with the disks in a neat stack in ascending order of size on one rod, \\nthe smallest at the top. The objective of the puzzle is to move the entire stack to another rod, obeying the following simple rules:\\n\\nOnly one disk can be moved at a time.\\nEach move consists of taking the upper disk from one of the stacks and placing it on top of another stack or on an empty rod.\\nNo disk may be placed on top of a smaller disk.\\nHere\\'s a Python program that solves the Tower of Hanoi problem using recursion:\\n\\n# Explanation:\\nFunction moves Parameters:\\nn: The number of disks to be moved.\\ns: The source rod from which disks are initially placed.\\nd: The destination rod to which disks need to be moved.\\na: The auxiliary (or intermediate) rod used during the process.\\nBase Condition:\\n\\nif n == 1:: This is the base case. When there is only one disk (n == 1), it directly returns 1, as only one move is needed to transfer the disk\\nfrom the source rod (s) to the destination rod (d).\\n\\n# Recursive Case:\\nreturn moves(n-1, s, a, d) + 1 + moves(n-1, a, d, s): This line represents the recursive logic for the Tower of Hanoi problem.\\nmoves(n-1, s, a, d): Move n-1 disks from the source rod (s) to the auxiliary rod (a).\\n1: Move the largest disk from the source rod (s) to the destination rod (d).\\nmoves(n-1, a, d, s): Move the n-1 disks from the auxiliary rod (a) to the destination rod (d).\\n\\n# Example Usage:\\nnum_disks = 3: This sets the number of disks for the Tower of Hanoi problem to 3.\\nresult = moves(num_disks, \\'S\\', \\'D\\', \\'A\\'): Calls the moves function with the specified parameters and stores the result (total number of moves) in\\nthe variable result.\\nprint(f\"Number of moves for {num_disks} disks: {result}\"): Prints the result, indicating the number of moves required to solve the Tower of Hanoi \\nproblem for 3 disks.  '"
      ]
     },
     "execution_count": 22,
     "metadata": {},
     "output_type": "execute_result"
    }
   ],
   "source": [
    "'''The Tower of Hanoi is a classic problem in computer science and mathematics. The problem consists of three rods and a number of disks\n",
    "of different sizes, which can slide onto any rod. The puzzle starts with the disks in a neat stack in ascending order of size on one rod, \n",
    "the smallest at the top. The objective of the puzzle is to move the entire stack to another rod, obeying the following simple rules:\n",
    "\n",
    "Only one disk can be moved at a time.\n",
    "Each move consists of taking the upper disk from one of the stacks and placing it on top of another stack or on an empty rod.\n",
    "No disk may be placed on top of a smaller disk.\n",
    "Here's a Python program that solves the Tower of Hanoi problem using recursion:\n",
    "\n",
    "# Explanation:\n",
    "Function moves Parameters:\n",
    "n: The number of disks to be moved.\n",
    "s: The source rod from which disks are initially placed.\n",
    "d: The destination rod to which disks need to be moved.\n",
    "a: The auxiliary (or intermediate) rod used during the process.\n",
    "Base Condition:\n",
    "\n",
    "if n == 1:: This is the base case. When there is only one disk (n == 1), it directly returns 1, as only one move is needed to transfer the disk\n",
    "from the source rod (s) to the destination rod (d).\n",
    "\n",
    "# Recursive Case:\n",
    "return moves(n-1, s, a, d) + 1 + moves(n-1, a, d, s): This line represents the recursive logic for the Tower of Hanoi problem.\n",
    "moves(n-1, s, a, d): Move n-1 disks from the source rod (s) to the auxiliary rod (a).\n",
    "1: Move the largest disk from the source rod (s) to the destination rod (d).\n",
    "moves(n-1, a, d, s): Move the n-1 disks from the auxiliary rod (a) to the destination rod (d).\n",
    "\n",
    "# Example Usage:\n",
    "num_disks = 3: This sets the number of disks for the Tower of Hanoi problem to 3.\n",
    "result = moves(num_disks, 'S', 'D', 'A'): Calls the moves function with the specified parameters and stores the result (total number of moves) in\n",
    "the variable result.\n",
    "print(f\"Number of moves for {num_disks} disks: {result}\"): Prints the result, indicating the number of moves required to solve the Tower of Hanoi \n",
    "problem for 3 disks.  '''"
   ]
  },
  {
   "cell_type": "code",
   "execution_count": null,
   "id": "81b65ec1-1fc1-4ac7-b3b7-ad5c8053059b",
   "metadata": {},
   "outputs": [],
   "source": []
  },
  {
   "cell_type": "markdown",
   "id": "b60b6aa9-e3ce-4e52-9bb0-48948566cd67",
   "metadata": {},
   "source": [
    "#### Q.2 Given two strings word1 and word2, return the minimum number of operations required to convert word1 to word2.\n",
    "#### Example 1:\n",
    "#### Input: word1 = \"horse\", word2 = \"ros\"\n",
    "#### Output: 3\n",
    "#### Explanation:\n",
    "#### horse -> rorse (replace 'h' with 'r')\n",
    "#### rorse -> rose (remove 'r')\n",
    "#### rose -> ros (remove 'e')\n",
    "#### Example 2:\n",
    "#### Input: word1 = \"intention\", word2 = \"execution\"\n",
    "#### Output: 5\n",
    "#### Explanation:\n",
    "#### intention -> inention (remove 't')\n",
    "#### inention -> enention (replace 'i' with 'e')\n",
    "#### enention -> exention (replace 'n' with 'x')\n",
    "#### exention -> exection (replace 'n' with 'c')\n",
    "#### exection -> execution (insert 'u')"
   ]
  },
  {
   "cell_type": "code",
   "execution_count": 23,
   "id": "e9fea8f9-85db-44b5-9f3e-f04f56cb533c",
   "metadata": {},
   "outputs": [
    {
     "name": "stdout",
     "output_type": "stream",
     "text": [
      "The minimum number of operations to convert 'horse' to 'ros': 3\n",
      "The minimum number of operations to convert 'intention' to 'execution': 5\n"
     ]
    }
   ],
   "source": [
    "def min_distance(word1, word2):\n",
    "    m, n = len(word1), len(word2)\n",
    "\n",
    "    # Create a 2D array to store the minimum distances\n",
    "    dp = [[0] * (n + 1) for _ in range(m + 1)]\n",
    "\n",
    "    # Initialize the first row and column\n",
    "    for i in range(m + 1):\n",
    "        dp[i][0] = i\n",
    "    for j in range(n + 1):\n",
    "        dp[0][j] = j\n",
    "\n",
    "    # Fill the rest of the matrix\n",
    "    for i in range(1, m + 1):\n",
    "        for j in range(1, n + 1):\n",
    "            if word1[i - 1] == word2[j - 1]:\n",
    "                dp[i][j] = dp[i - 1][j - 1]\n",
    "            else:\n",
    "                dp[i][j] = 1 + min(dp[i - 1][j],  # Deletion\n",
    "                                  dp[i][j - 1],  # Insertion\n",
    "                                  dp[i - 1][j - 1])  # Substitution\n",
    "\n",
    "    return dp[m][n]\n",
    "\n",
    "# Example usage 1:\n",
    "word1 = \"horse\"\n",
    "word2 = \"ros\"\n",
    "result = min_distance(word1, word2)\n",
    "print(f\"The minimum number of operations to convert '{word1}' to '{word2}': {result}\")\n",
    "\n",
    "#Example usage 2:\n",
    "word1 = \"intention\"\n",
    "word2 = \"execution\"\n",
    "result = min_distance(word1, word2)\n",
    "print(f\"The minimum number of operations to convert '{word1}' to '{word2}': {result}\")"
   ]
  },
  {
   "cell_type": "code",
   "execution_count": null,
   "id": "60a27b26-b8e5-4b09-9d2f-38027aa8cff4",
   "metadata": {},
   "outputs": [],
   "source": []
  },
  {
   "cell_type": "markdown",
   "id": "b14ab96d-303b-4bb6-a4b8-1fa9c6f06965",
   "metadata": {},
   "source": [
    "## Q. 3 Print the max value of the array [ 13, 1, -3, 22, 5]."
   ]
  },
  {
   "cell_type": "code",
   "execution_count": 3,
   "id": "c56cf46e-8e31-495c-b12d-cfb79941150f",
   "metadata": {},
   "outputs": [
    {
     "name": "stdout",
     "output_type": "stream",
     "text": [
      "The maximum value in the array is: 22\n"
     ]
    }
   ],
   "source": [
    "# Define the array\n",
    "array = [13, 1, -3, 22, 5]\n",
    "\n",
    "# Find the maximum value using the max() function\n",
    "max_value = max(array)\n",
    "\n",
    "# Print the maximum value\n",
    "print(\"The maximum value in the array is:\", max_value)\n"
   ]
  },
  {
   "cell_type": "code",
   "execution_count": null,
   "id": "cb5a4393-8b6e-4539-831d-aa5e23930c78",
   "metadata": {},
   "outputs": [],
   "source": []
  },
  {
   "cell_type": "markdown",
   "id": "465986b7-8080-459f-8f5a-673bf74a7e54",
   "metadata": {},
   "source": [
    "## Q.4 Find the sum of the values of the array [92, 23, 15, -20, 10]."
   ]
  },
  {
   "cell_type": "code",
   "execution_count": 4,
   "id": "74efc62a-57cd-4036-ab95-d78ea4e3bd1c",
   "metadata": {},
   "outputs": [
    {
     "name": "stdout",
     "output_type": "stream",
     "text": [
      "The sum of the values in the array is: 120\n"
     ]
    }
   ],
   "source": [
    "# Define the array\n",
    "array = [92, 23, 15, -20, 10]\n",
    "\n",
    "# Calculate the sum using the sum() function\n",
    "array_sum = sum(array)\n",
    "\n",
    "# Print the sum\n",
    "print(\"The sum of the values in the array is:\", array_sum)\n"
   ]
  },
  {
   "cell_type": "code",
   "execution_count": null,
   "id": "b4a02e2e-9b61-424b-ba06-a9cb5acbd302",
   "metadata": {},
   "outputs": [],
   "source": []
  },
  {
   "cell_type": "markdown",
   "id": "449af730-52ce-45e2-a3ad-1a944609ec50",
   "metadata": {},
   "source": [
    "### Q.5 Given a number n. Print if it is an armstrong number or not.An armstrong number is a number if the sumof every digit in that number raised to the power of total digits in that number is equal to the number.\n",
    "### Example : 153 = 1^3 + 5^3 + 3^3 = 1 + 125 + 27 = 153 hence 153 is an armstrong number. (Easy)\n",
    "### Input1 : 153\n",
    "### Output1 : Yes\n",
    "### Input 2 : 134\n",
    "### Output2 : No"
   ]
  },
  {
   "cell_type": "code",
   "execution_count": 6,
   "id": "3fcc3435-46eb-4f0a-8a3b-dcffc71c226f",
   "metadata": {},
   "outputs": [
    {
     "name": "stdout",
     "output_type": "stream",
     "text": [
      "153 is an Armstrong number: Yes\n",
      "134 is an Armstrong number: No\n"
     ]
    }
   ],
   "source": [
    "def is_armstrong_number(n):\n",
    "    # Convert the number to a string to easily iterate over digits\n",
    "    num_str = str(n)\n",
    "    num_digits = len(num_str)\n",
    "    \n",
    "    # Calculate the sum of each digit raised to the power of the number of digits\n",
    "    sum_of_powers = sum(int(digit) ** num_digits for digit in num_str)\n",
    "    \n",
    "    # Check if the sum of the powers is equal to the original number\n",
    "    return sum_of_powers == n\n",
    "\n",
    "# Input examples\n",
    "input1 = 153\n",
    "input2 = 134\n",
    "\n",
    "# Check and print if the numbers are Armstrong numbers\n",
    "print(f\"{input1} is an Armstrong number: {'Yes' if is_armstrong_number(input1) else 'No'}\")\n",
    "print(f\"{input2} is an Armstrong number: {'Yes' if is_armstrong_number(input2) else 'No'}\")\n"
   ]
  },
  {
   "cell_type": "code",
   "execution_count": null,
   "id": "f53bbe2b-148d-46cf-8a85-f04e7998a109",
   "metadata": {},
   "outputs": [],
   "source": []
  }
 ],
 "metadata": {
  "kernelspec": {
   "display_name": "Python 3 (ipykernel)",
   "language": "python",
   "name": "python3"
  },
  "language_info": {
   "codemirror_mode": {
    "name": "ipython",
    "version": 3
   },
   "file_extension": ".py",
   "mimetype": "text/x-python",
   "name": "python",
   "nbconvert_exporter": "python",
   "pygments_lexer": "ipython3",
   "version": "3.10.8"
  }
 },
 "nbformat": 4,
 "nbformat_minor": 5
}
